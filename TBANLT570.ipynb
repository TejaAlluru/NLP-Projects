{
  "nbformat": 4,
  "nbformat_minor": 0,
  "metadata": {
    "colab": {
      "name": "TBANLT570 Project1.ipynb",
      "provenance": [],
      "collapsed_sections": [
        "CuwPfKZJe2Jp",
        "tBXMyepb2pqN",
        "ChNYFLf1whZ5"
      ],
      "private_outputs": true
    },
    "kernelspec": {
      "name": "python3",
      "display_name": "Python 3"
    },
    "language_info": {
      "name": "python"
    }
  },
  "cells": [
    {
      "cell_type": "markdown",
      "metadata": {
        "id": "Ruo5d5chwg4j"
      },
      "source": [
        "#**TBANLT 570 - PROJECT 1 - CATEGORIZING DOCUMENTS USING TF-IDF SCORE**\n",
        "##Overview\n",
        "In this project, you will use Python to process the textual content of a large collection of news articles with the goal of accurately predicting the correct category for all articles whose categories are currently unknown. To do this, you will compute a feature vector that is composed of term frequency – inverse document frequency (TF-IDF) scores for each news article. You will then be able to compute an average TF-IDF feature vector (i.e., a centroid) for each article category. These TF-IDF category centroids will be used as a basis for calculating the distance between each possible category and each article for which the true category is unknown. You will then use the resulting distance values to predict the correct category for each of these articles.\n",
        "\n",
        "##Data\n",
        "The data for this project have been provided to you on the course website in the form of a SQLite database. The database consists of just one Article table whose structure is shown in the entity-relationship diagram to the right. The columns contained in the Article table are:\n",
        "\n",
        "1. id – Primary key. Uniquely identifies each news article in the table.\n",
        "Data type: integer.\n",
        "2.category – The textual name of the category to which each article\n",
        "belongs. Data type: varchar(25). The set of categories includes:\n",
        "o Business (270 articles)\n",
        "o Entertainment (197 articles)\n",
        "o Politics (239 articles)\n",
        "o Sports (294 articles)\n",
        "o Technology (225 articles)\n",
        "o Unknown (1000 articles)\n",
        "3. raw_text – The raw text of each news article. Data type: text."
      ]
    },
    {
      "cell_type": "markdown",
      "metadata": {
        "id": "D7oigi-L1V20"
      },
      "source": [
        "### Import Libraries\n",
        "Python has a small core set of capabilities with a very large set of libraries. This allows us to import specialized functionality into our programs on an as-needed basis.\n",
        "\n",
        "Run the code cell below to import all of the libraries that we'll need for this lab assignment."
      ]
    },
    {
      "cell_type": "code",
      "metadata": {
        "id": "qr7viTwm1ZQY"
      },
      "source": [
        "#import libraries\n",
        "import numpy as np #used to quickly perform mathematical calculations on vectors\n",
        "import pandas as pd #allows us to work with data using Pandas dataframes\n",
        "import re #regular expressions; used in this assignment to clean the text data\n",
        "import sqlite3 #used to interact with the database\n",
        "from collections import Counter #used to quickly count letters and words"
      ],
      "execution_count": null,
      "outputs": []
    },
    {
      "cell_type": "code",
      "metadata": {
        "id": "Fw4wmVM_zTyg"
      },
      "source": [
        "#open a connection to the database\n",
        "conn = sqlite3.connect('Project 01 - Database.db')\n",
        "\n",
        "#load all documents into a Pandas dataframe named 'df', and use the 'document_id' column as the index\n",
        "sql = 'SELECT * FROM Article'\n",
        "df = pd.read_sql_query(sql, conn)\n",
        "\n",
        "#close database connection\n",
        "conn.close()"
      ],
      "execution_count": null,
      "outputs": []
    },
    {
      "cell_type": "code",
      "metadata": {
        "id": "biaM7adyzjfV"
      },
      "source": [
        "df.category.unique()\n"
      ],
      "execution_count": null,
      "outputs": []
    },
    {
      "cell_type": "markdown",
      "metadata": {
        "id": "XKUeJ8D2zkOL"
      },
      "source": [
        "### Prepare Data for Analysis"
      ]
    },
    {
      "cell_type": "code",
      "metadata": {
        "id": "EZEhso_ywcu2"
      },
      "source": [
        "#define a function that will clean the raw input text in preparation for analysis\n",
        "def clean_text(raw_text):\n",
        "  #convert the raw text to lowercase\n",
        "  text = raw_text.lower()\n",
        "  #remove all numbers from the text using a regular expression\n",
        "  text = re.sub(r'[0-9]', ' ', text)\n",
        "  #remove punctuation url etc etc\n",
        "  text = re.sub(r\"(@\\[A-Za-z0-9]+)|([^0-9A-Za-z \\t])|(\\w+:\\/\\/\\S+)|^rt|http.+?\", \"\", text)\n",
        "  #remove all underscores from the text\n",
        "  text = re.sub(r'\\_', ' ', text)\n",
        "  #remove anything else in the text that isn't a word character or a space (e.g., punctuation, special symbols, etc.)\n",
        "  text = re.sub(r'[^\\w\\s]', ' ', text)\n",
        "  #remove any excess whitespace\n",
        "  for _ in range(10): text = text.replace('  ', ' ')\n",
        "  #remove any leading or trailing space characters\n",
        "  text = text.strip()\n",
        "  #return the clean text\n",
        "  return text\n",
        "\n",
        "\n",
        "#clean the raw text of each document and store the resulting clean text in a new column \n",
        "#in each dataframe. The code below uses a Python feature known as 'list comprehension'\n",
        "#to quickly handle this task. The code on the right side of the equals sign returns a \n",
        "#list, and that list is then used to create a new column in one of the language-specific\n",
        "#dataframes.\n",
        "df['clean_text'] = [clean_text(raw_text) for raw_text in df.raw_text]\n",
        "\n",
        "#show the cleaned text of the first English-language document\n",
        "df.iloc[0].clean_text\n"
      ],
      "execution_count": null,
      "outputs": []
    },
    {
      "cell_type": "code",
      "source": [
        "import nltk.corpus\n",
        "nltk.download('stopwords')\n",
        "from nltk.corpus import stopwords\n",
        "stop = set(stopwords.words('english'))\n",
        "\n",
        "# Exclude stopwords with Python's list comprehension and pandas.DataFrame.apply.\n",
        "df['clean_text'] = df['clean_text'].apply(lambda x: ' '.join([word for word in x.split() if word not in (stop)]))"
      ],
      "metadata": {
        "id": "-AMkqTpql50n"
      },
      "execution_count": null,
      "outputs": []
    },
    {
      "cell_type": "code",
      "source": [
        "import nltk\n",
        "nltk.download('punkt')\n",
        "nltk.download('averaged_perceptron_tagger')\n",
        "from nltk.corpus import stopwords\n",
        "from nltk.tokenize import word_tokenize\n",
        "from nltk.stem.wordnet import WordNetLemmatizer\n",
        "from nltk.corpus import wordnet\n",
        "lemmatizer = nltk.stem.WordNetLemmatizer()\n",
        "wordnet_lemmatizer = WordNetLemmatizer()\n",
        "stop = stopwords.words('english')\n",
        "\n",
        "\n",
        "def nltk_tag_to_wordnet_tag(nltk_tag):\n",
        "    if nltk_tag.startswith('J'):\n",
        "        return wordnet.ADJ\n",
        "    elif nltk_tag.startswith('V'):\n",
        "        return wordnet.VERB\n",
        "    elif nltk_tag.startswith('N'):\n",
        "        return wordnet.NOUN\n",
        "    elif nltk_tag.startswith('R'):\n",
        "        return wordnet.ADV\n",
        "    else:\n",
        "        return None\n",
        "\n",
        "def lemmatize_sentence(sentence):\n",
        "    #tokenize the sentence and find the POS tag for each token\n",
        "    nltk_tagged = nltk.pos_tag(nltk.word_tokenize(sentence))\n",
        "    #tuple of (token, wordnet_tag)\n",
        "    wordnet_tagged = map(lambda x: (x[0], nltk_tag_to_wordnet_tag(x[1])), nltk_tagged)\n",
        "    lemmatized_sentence = []\n",
        "    for word, tag in wordnet_tagged:\n",
        "        if tag is None:\n",
        "            #if there is no available tag, append the token as is\n",
        "            lemmatized_sentence.append(word)\n",
        "        else:\n",
        "            #else use the tag to lemmatize the token\n",
        "            lemmatized_sentence.append(lemmatizer.lemmatize(word, tag))\n",
        "    return \" \".join(lemmatized_sentence)\n",
        "\n",
        "\n",
        "\n",
        "# Lemmatizing\n",
        "df['clean_text'] = df['clean_text'].apply(lambda x: lemmatize_sentence(x))\n",
        "df.head()"
      ],
      "metadata": {
        "id": "YFH2EI2wqAhr"
      },
      "execution_count": null,
      "outputs": []
    },
    {
      "cell_type": "markdown",
      "metadata": {
        "id": "CuwPfKZJe2Jp"
      },
      "source": [
        "###Build a Vocabulary\n",
        "Our next task will be to build a vocabulary for our English-language corpus. In Natural Language Processing (NLP), a ***vocabulary*** is a collection of unique lexical units appearing in a corpus. Importantly, what constitutes a \"lexical unit\" can vary from project to project. For our current lab assignment, we will adopt the simplest approach and use the collection of unique ***words*** as the lexical units for our vocabulary, but this is not the only option. Alternatives include:\n",
        "* <u>Lexemes</u>: A ***lexeme*** is the collection of different forms for a single root word. For example, *eat*, *eats*, *ate*, *eating*, and *eaten* are all part of the same lexeme. A ***lemma*** (e.g., *eat*) is chosen to represent each lexeme, and the lemma appears as the lexeme's headword in a dictionary.\n",
        "* <u>Lexical Items</u>: A ***lexical item*** is a word or group of words that conveys a single meaning. For example, individual words such as *dog* and *computer* are lexical items, but so are compounds such as *post office* and *parking lot*. Idioms are also lexical items because they convey a single meaning. For example, idioms such as *once in a blue moon* or *finding a needle in a haystack* convey a single meaning, and are hence lexical items.\n",
        "\\?"
      ]
    },
    {
      "cell_type": "code",
      "metadata": {
        "id": "3rDFv8h52JiI"
      },
      "source": [
        "#build a vocabulary of words\n",
        "all_text = ' '.join(df.clean_text) #join all of the English texts into one big string\n",
        "words = all_text.split() #split the text into words\n",
        "word_frequencies = Counter(words) #count all words in the text\n",
        "vocabulary = list(word_frequencies.keys()) #get a list of all unique words\n",
        "\n",
        "#sort the vocabulary to ensure that we all get consistent results!\n",
        "vocabulary.sort()\n",
        "\n",
        "#use slicing to show the first 20 words in the vocabulary\n",
        "vocabulary[:20]"
      ],
      "execution_count": null,
      "outputs": []
    },
    {
      "cell_type": "markdown",
      "metadata": {
        "id": "tBXMyepb2pqN"
      },
      "source": [
        "###Compute Raw Vocabulary Word Frequencies and Total Word Counts for Each Document\n",
        "Next, let's calculate each document's raw vocabulary word frequencies and total word count. These values will be needed in order to compute the standardized probability for each word in each document.\n",
        "\n",
        "Run the code cell below to compute the raw vocabulary word frequencies and total word count for each document in the corpus. After computing these values, they will be added to the dataframe as new columns. Read the comments in the code cell carefully to ensure that you understand how the vocabulary word frequencies for each document are being calculated."
      ]
    },
    {
      "cell_type": "code",
      "metadata": {
        "id": "cyqQ7Dpr2-bk"
      },
      "source": [
        "#ensure that the vocabulary is sorted\n",
        "vocabulary.sort()\n",
        "#define a collection (list) to hold the raw frequencies for each word in each document\n",
        "document_word_frequencies = []\n",
        "#define a collection (list) to hold the total number of words in each document\n",
        "document_total_words = []\n",
        "#compute the word frequencies and total number of words for each document in the English-language corpus\n",
        "for current_document in df.itertuples(): #for each document (row) in the English-language dataframe\n",
        "  words = current_document.clean_text.split() #split the (clean) text for the current document into words\n",
        "  total_words = len(words) #compute the total number of words in the document\n",
        "  #identify all unique words in the document's (clean) text, and count how many times each\n",
        "  #word appears in the document\n",
        "  word_frequencies = Counter(words)  \n",
        "  #compute the document's raw word frequencies for every word in the VOCABULARY (as opposed to every\n",
        "  #word in the document). The vocabulary will contain more unique words than the document itself, but \n",
        "  #we still need to consider EVERY word in the vocabulary, even if a particular word in the vocabulary \n",
        "  #doesn't appear in the document. This will ensure that the feature vectors we'll use to represent each\n",
        "  #document will all be exactly the same length and will have exactly corresponding elements!\n",
        "  vocabulary_word_frequencies = []\n",
        "  #for each word in the vocabulary\n",
        "  for vocabulary_word in vocabulary:\n",
        "    #if this vocabulary word appears in the document\n",
        "    if vocabulary_word in word_frequencies:\n",
        "      #add the number of times this vocabulary word appears in the document to the collection\n",
        "      vocabulary_word_frequencies.append(word_frequencies[vocabulary_word])\n",
        "    else: #if this vocabulary word doesn't appear in the document\n",
        "      #add a value of zero for this vocabulary word to the collection (since this\n",
        "      #vocabulary word appears zero times in the current document)\n",
        "      vocabulary_word_frequencies.append(0)      \n",
        "  #add this document's vocabulary word frequencies to the collection\n",
        "  document_word_frequencies.append(np.array(vocabulary_word_frequencies) / total_words)\n",
        "  #add this document's total number of words to the collection\n",
        "  #document_total_words.append(total_words)\n",
        "\n",
        "#add the raw word frequencies and total word counts for each document to the\n",
        "#English-language dataframe as new columns.\n",
        "df['word_frequencies'] = document_word_frequencies\n",
        "#df['total_words'] = document_total_words\n",
        "\n",
        "#show the first few rows in the dataframe\n",
        "df.head()"
      ],
      "execution_count": null,
      "outputs": []
    },
    {
      "cell_type": "code",
      "source": [
        "import math\n",
        "idf_scores =[]\n",
        "N=df.shape[0]\n",
        "\n",
        "for word in vocabulary:\n",
        "  N_w = 0\n",
        "\n",
        "  for article_text in df.clean_text:\n",
        "    if word in article_text:\n",
        "       N_w = N_w + 1\n",
        "\n",
        "idf_scores.append(math.log(N / N_w))"
      ],
      "metadata": {
        "id": "otSg9-PTAKou"
      },
      "execution_count": null,
      "outputs": []
    },
    {
      "cell_type": "code",
      "source": [
        "\n",
        "df['tfidf_scores'] = [tf_scores * np.array(idf_scores) for tf_scores in df.word_frequencies]\n",
        "\n"
      ],
      "metadata": {
        "id": "afg9dRkwAXk5"
      },
      "execution_count": null,
      "outputs": []
    },
    {
      "cell_type": "code",
      "source": [
        "df.head()\n",
        "  "
      ],
      "metadata": {
        "id": "UL9iOsKiBUTL"
      },
      "execution_count": null,
      "outputs": []
    },
    {
      "cell_type": "code",
      "metadata": {
        "id": "l3V8roYr4JME"
      },
      "source": [
        "#define a dictionary that holds each category's name (keys) and average word probability distribution (values).\n",
        "#The probability distributions are all numpy arrays of the same size as the vocabulary. All elements of each\n",
        "#probability distribution are initialized to zero.\n",
        "category_distributions = {'Politics': np.zeros(len(vocabulary)), 'Sports': np.zeros(len(vocabulary)), 'Business': np.zeros(len(vocabulary))\n",
        ", 'Technology': np.zeros(len(vocabulary)), 'Entertainment': np.zeros(len(vocabulary))}\n",
        "#define a dictionary to hold the number of documents for each category\n",
        "document_counts = {'Politics': 0, 'Sports': 0, 'Business': 0, 'Technology': 0, 'Entertainment': 0}\n",
        "#for each document in the corpus\n",
        "for current_document in df.itertuples():\n",
        "  #if the category of this document is known\n",
        "  if current_document.category != 'Unknown':\n",
        "    #increment the document count for this category\n",
        "    document_counts[current_document.category] += 1\n",
        "    #add this document's word probabilities to the running sum for the corresponding distribution \n",
        "    #for the document's category\n",
        "    category_distributions[current_document.category] += current_document.tfidf_scores\n",
        "#compute the average word probability distributions for each category by dividing the summed probabilities\n",
        "#by the number of documents for each category\n",
        "for category in category_distributions:\n",
        "  category_distributions[category] /= document_counts[category]"
      ],
      "execution_count": null,
      "outputs": []
    },
    {
      "cell_type": "markdown",
      "metadata": {
        "id": "KVIzFZK4325S"
      },
      "source": [
        "###Distance Between Vectors\n",
        "One of the easiest ways of determining how similar documents are to each other is to measure the distance between their feature vectors. To do this, we simply need to think of each feature vector as defining a location in a multidimensional geometric space. If our vocabulary only contained three unique words, then this would be a three-dimensional space. Our vocabularly contains thousands of unique words, however, so our geometric space will contain thousands of dimensions (one dimension for each word in the vocabulary). This is not a problem, because the Euclidean distance formula applies to geometric spaces with as many dimensions as we need, even if we humans can only intuitively understand spaces that have one, two, or three dimensions. You can learn more about the Euclidean distance formula in [this article](https://en.wikipedia.org/wiki/Euclidean_distance). \n",
        "\n",
        "The formula for calculating the Euclidean distance between any two points *p* and *q* in an *n*-dimensional space is:\n",
        "\n",
        "![distance.png](data:image/png;base64,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)\n",
        "\n",
        "Run the code cell below to define a function that can compute the distance between any two points:"
      ]
    },
    {
      "cell_type": "code",
      "metadata": {
        "id": "h8kB9X6B7-Tm"
      },
      "source": [
        "#define a function to compute the Euclidean distance between two points \n",
        "#(where each point is defined as a vector)\n",
        "def get_distance(point1, point2):\n",
        "  return np.sqrt(np.sum(np.square(point1 - point2)))"
      ],
      "execution_count": null,
      "outputs": []
    },
    {
      "cell_type": "markdown",
      "metadata": {
        "id": "ye1FqIdI83Ai"
      },
      "source": [
        "Now that we have our `get_distance()` function, we can easily measure the distance between documents or categorys. Smaller distance values indicate that the documents or categorys are closer to each other (and are hence more similar), while larger distance values indicate that the documents or categorys are farther away from each other (and are hence less similar).\n",
        "\n",
        "###Distance Between categorys\n",
        "\n",
        "Run the code cell below to compute the distance between the `Science` and `Sports` categorys."
      ]
    },
    {
      "cell_type": "code",
      "metadata": {
        "id": "-6N1HZhk9-es"
      },
      "source": [
        "#compute and display the distance between the 'Science' and 'Sports' categorys\n",
        "distance = get_distance(category_distributions['Business'], category_distributions['Sports'])\n",
        "print('The distance between the \"Science\" and \"Sports\" categorys is:', distance)"
      ],
      "execution_count": null,
      "outputs": []
    },
    {
      "cell_type": "markdown",
      "metadata": {
        "id": "UmhQBns34l-Z"
      },
      "source": [
        "###Classify Documents with Unknown categorys\n",
        "Finally, we're ready to use our unigram probability distributions to classify the documents in the corpus that do not currently have a category.\n",
        "\n"
      ]
    },
    {
      "cell_type": "code",
      "source": [
        "unknown_df = df.loc[df['category'] == 'Unknown']"
      ],
      "metadata": {
        "id": "eyGzDU2GWIbR"
      },
      "execution_count": null,
      "outputs": []
    },
    {
      "cell_type": "code",
      "source": [
        "df"
      ],
      "metadata": {
        "id": "IzL9L1nlT1EC"
      },
      "execution_count": null,
      "outputs": []
    },
    {
      "cell_type": "code",
      "source": [
        "output=[]\n",
        "#for each document in the English-language corpus\n",
        "for current_document in unknown_df.itertuples():\n",
        "  #if the category for this document is unknown\n",
        "  if current_document.category == 'Unknown':\n",
        "\n",
        "    min_distance = np.inf\n",
        "    best_category = ''\n",
        "    for category_name in category_distributions:\n",
        "      current_distance = get_distance(current_document.tfidf_scores, category_distributions[category_name])\n",
        "      if current_distance < min_distance:\n",
        "        min_distance = current_distance\n",
        "        best_category = category_name\n",
        "    output.append(best_category)\n",
        "unknown_df['predicted'] = output"
      ],
      "metadata": {
        "id": "i_u8cfKKJjSN"
      },
      "execution_count": null,
      "outputs": []
    },
    {
      "cell_type": "code",
      "source": [
        "unknown_df.head()"
      ],
      "metadata": {
        "id": "sxV3w4_1YvYn"
      },
      "execution_count": null,
      "outputs": []
    },
    {
      "cell_type": "code",
      "source": [
        "unknown_df.to_csv('Teja, Alluru-01.csv',\n",
        "columns=['id', 'predicted', 'raw_text' ],index=True, header=False)"
      ],
      "metadata": {
        "id": "47sNAFagZRGp"
      },
      "execution_count": null,
      "outputs": []
    },
    {
      "cell_type": "markdown",
      "metadata": {
        "id": "ChNYFLf1whZ5"
      },
      "source": [
        "## End of Lab Assignment 02!"
      ]
    }
  ]
}